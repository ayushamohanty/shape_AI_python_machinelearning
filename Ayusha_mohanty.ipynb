{
  "nbformat": 4,
  "nbformat_minor": 0,
  "metadata": {
    "colab": {
      "provenance": []
    },
    "kernelspec": {
      "name": "python3",
      "display_name": "Python 3"
    },
    "language_info": {
      "name": "python"
    }
  },
  "cells": [
    {
      "cell_type": "code",
      "source": [
        "import numpy as np\n",
        "import pandas as pd\n",
        "import sklearn"
      ],
      "metadata": {
        "id": "gobHcWTH5IMy"
      },
      "execution_count": null,
      "outputs": []
    },
    {
      "cell_type": "code",
      "source": [
        "from sklearn.dataset import load_boston\n",
        "df = load_boston()"
      ],
      "metadata": {
        "id": "0picv4fj5n5U"
      },
      "execution_count": null,
      "outputs": []
    },
    {
      "cell_type": "code",
      "source": [
        "df.keys()\n",
        "print(df.DESCR)"
      ],
      "metadata": {
        "id": "SO9wzLcx6C7S"
      },
      "execution_count": null,
      "outputs": []
    },
    {
      "cell_type": "code",
      "source": [
        "boston= pd.DataFrame (df.data, columns=df.datafeature_name)\n",
        "boston.head()"
      ],
      "metadata": {
        "id": "Rxc38Dq17CmT"
      },
      "execution_count": null,
      "outputs": []
    },
    {
      "cell_type": "code",
      "source": [
        "boston.isnull\n",
        "boston.isnull.sum()"
      ],
      "metadata": {
        "id": "hnbMj7Tu7bGZ"
      },
      "execution_count": null,
      "outputs": []
    },
    {
      "cell_type": "code",
      "source": [
        "from sklearn.model_selection import train_test_split \n",
        "X= boston.drop('MEDV' , axis=1)\n",
        "Y= boston['MEDV']\n",
        "X_train , X_test , Y_train , Y_test =  train_test_split (X ,Y , test_size= 0.15 random_state = 5 )\n",
        "\n",
        "print(\"X_train.shape\")\n",
        "print(\"X_test.shape\")\n",
        "print(\"Y_train.shape\")\n",
        "print(\"Y_test.shape\")"
      ],
      "metadata": {
        "id": "V1_ld9gn0Ajk"
      },
      "execution_count": null,
      "outputs": []
    },
    {
      "cell_type": "code",
      "execution_count": null,
      "metadata": {
        "id": "TlH-Uj9Cv2PK"
      },
      "outputs": [],
      "source": [
        "from sklearn.linear_model import LinearRegression\n",
        "from sklearn.metrics import mean_squarted_error\n"
      ]
    },
    {
      "cell_type": "code",
      "source": [
        "lin_model = LinearRegression()\n",
        "lin_model.fit(X_train , Y_train)"
      ],
      "metadata": {
        "id": "6jVFIQPLwsxy"
      },
      "execution_count": null,
      "outputs": []
    },
    {
      "cell_type": "code",
      "source": [
        "Y_train_predict= lin_model.predict(X_train)\n",
        "rmse=(np.sqrt(mean_squarted_error(Y_train,y_train_predict)))\n",
        "\n",
        "print(\"the model preforming for training set\")\n",
        "print('RMSE is{}'. format(rmse))\n",
        "print(\"\\n\")\n",
        "\n",
        "Y_test_predict= lin_model.predict(X_test)\n",
        "rmse=(np.sqrt(mean_squarted_error(Y_test,y_test_predict)))\n",
        "\n",
        "print(\"the model performing for testing set\")\n",
        "print('RMSE is{} '.format(rmse))\n",
        "\n"
      ],
      "metadata": {
        "id": "1eS3AZtYyEPy"
      },
      "execution_count": null,
      "outputs": []
    }
  ]
}